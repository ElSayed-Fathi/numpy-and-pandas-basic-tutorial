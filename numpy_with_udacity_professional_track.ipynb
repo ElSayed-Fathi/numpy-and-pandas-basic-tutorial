{
 "cells": [
  {
   "cell_type": "code",
   "execution_count": 2,
   "id": "1576154b",
   "metadata": {},
   "outputs": [],
   "source": [
    "import numpy as np"
   ]
  },
  {
   "cell_type": "code",
   "execution_count": 2,
   "id": "96a4935c",
   "metadata": {},
   "outputs": [
    {
     "name": "stdout",
     "output_type": "stream",
     "text": [
      "[1 2 3 4 5]\n",
      "<class 'numpy.ndarray'>\n"
     ]
    }
   ],
   "source": [
    "#lesson 7 Numpy with udacity \n",
    "# video 4 ############################################## Creating and Saving NumPy ndarrays\n",
    "# first way to creat array(matrix)\n",
    "#one dimention array  == 1D array\n",
    "x1 = np.array([1,2,3,4,5])\n",
    "print(x1)\n",
    "print(type(x1))"
   ]
  },
  {
   "cell_type": "code",
   "execution_count": 4,
   "id": "dce4b1ab",
   "metadata": {},
   "outputs": [
    {
     "data": {
      "text/plain": [
       "dtype('int32')"
      ]
     },
     "execution_count": 4,
     "metadata": {},
     "output_type": "execute_result"
    }
   ],
   "source": [
    "x1.dtype"
   ]
  },
  {
   "cell_type": "code",
   "execution_count": 5,
   "id": "d7a61ce5",
   "metadata": {},
   "outputs": [
    {
     "data": {
      "text/plain": [
       "(5,)"
      ]
     },
     "execution_count": 5,
     "metadata": {},
     "output_type": "execute_result"
    }
   ],
   "source": [
    "x1.shape"
   ]
  },
  {
   "cell_type": "code",
   "execution_count": 8,
   "id": "c9edaeb9",
   "metadata": {},
   "outputs": [
    {
     "data": {
      "text/plain": [
       "5"
      ]
     },
     "execution_count": 8,
     "metadata": {},
     "output_type": "execute_result"
    }
   ],
   "source": [
    "x1.size"
   ]
  },
  {
   "cell_type": "code",
   "execution_count": 6,
   "id": "8da0714b",
   "metadata": {},
   "outputs": [
    {
     "name": "stdout",
     "output_type": "stream",
     "text": [
      "[[ 1  2  3]\n",
      " [ 5  6  7]\n",
      " [ 8  9  4]\n",
      " [11 12 13]]\n"
     ]
    }
   ],
   "source": [
    "# creat 2d array >> two dimention array\n",
    "x2 = np.array([[1,2,3],[5,6,7],[8,9,4],[11,12,13]])\n",
    "print(x2)\n"
   ]
  },
  {
   "cell_type": "code",
   "execution_count": 7,
   "id": "03499022",
   "metadata": {},
   "outputs": [
    {
     "data": {
      "text/plain": [
       "(4, 3)"
      ]
     },
     "execution_count": 7,
     "metadata": {},
     "output_type": "execute_result"
    }
   ],
   "source": [
    "x2.shape"
   ]
  },
  {
   "cell_type": "code",
   "execution_count": 9,
   "id": "3ec3b4bb",
   "metadata": {},
   "outputs": [
    {
     "data": {
      "text/plain": [
       "12"
      ]
     },
     "execution_count": 9,
     "metadata": {},
     "output_type": "execute_result"
    }
   ],
   "source": [
    "x2.size"
   ]
  },
  {
   "cell_type": "code",
   "execution_count": 13,
   "id": "e4cb49e9",
   "metadata": {},
   "outputs": [
    {
     "name": "stdout",
     "output_type": "stream",
     "text": [
      "[ 1.   5.6 10.4] float64\n"
     ]
    }
   ],
   "source": [
    "#int and float data type   convert int >> float to upcasting\n",
    "x3 = np.array([1,5.6,10.4])\n",
    "print(x3,x3.dtype)"
   ]
  },
  {
   "cell_type": "code",
   "execution_count": 17,
   "id": "952b8ac8",
   "metadata": {},
   "outputs": [
    {
     "name": "stdout",
     "output_type": "stream",
     "text": [
      "['1' '5' 'world']\n",
      "shape :  (3,)\n",
      "type :  <class 'numpy.ndarray'>\n",
      "dtype :  <U11\n"
     ]
    }
   ],
   "source": [
    "#mix array data type\n",
    "x4 = np.array([1,5,\"world\"])\n",
    "print(x4)\n",
    "print('shape : ' , x4.shape)\n",
    "print('type : ' , type(x4))\n",
    "print('dtype : ' , x4.dtype)"
   ]
  },
  {
   "cell_type": "code",
   "execution_count": 18,
   "id": "425acde4",
   "metadata": {},
   "outputs": [],
   "source": [
    "# save array \n",
    "x5 = np.array([1,2,5,4,7,8,10])\n",
    "np.save('my array',x5)"
   ]
  },
  {
   "cell_type": "code",
   "execution_count": 19,
   "id": "ebdc9697",
   "metadata": {},
   "outputs": [
    {
     "name": "stdout",
     "output_type": "stream",
     "text": [
      "[ 1  2  5  4  7  8 10]\n"
     ]
    }
   ],
   "source": [
    "#load array \n",
    "x6 = np.load('my array.npy')\n",
    "print(x6)"
   ]
  },
  {
   "cell_type": "code",
   "execution_count": 21,
   "id": "2250191d",
   "metadata": {},
   "outputs": [
    {
     "name": "stdout",
     "output_type": "stream",
     "text": [
      "Letter Array:  ['a' 'b' 'c' 'd' 'e' 'f' 'g' 'h' 'i' 'j']\n",
      "the type <class 'numpy.ndarray'>\n",
      "the dtype <U1\n",
      "the shape (10,)\n",
      "the size 10\n"
     ]
    }
   ],
   "source": [
    "#quiz\n",
    "# create numpy array of letters a-j\n",
    "letter_array = np.array(['a','b','c','d','e','f','g','h','i','j'])\n",
    "print(\"Letter Array: \", letter_array)\n",
    "\n",
    "# get dtype of array\n",
    "print('the type',type(letter_array))\n",
    "print('the dtype',letter_array.dtype)## string\n",
    "\n",
    "# get shape of array\n",
    "print('the shape',letter_array.shape)\n",
    "\n",
    "# get size of array\n",
    "print('the size',letter_array.size)"
   ]
  },
  {
   "cell_type": "code",
   "execution_count": 22,
   "id": "b2b3b314",
   "metadata": {},
   "outputs": [
    {
     "name": "stdout",
     "output_type": "stream",
     "text": [
      "[ 20  64  12 452]\n"
     ]
    }
   ],
   "source": [
    "#conver list to array\n",
    "x7 = [20,64,12,452]\n",
    "x8 = np.array(x7)\n",
    "print(x8)"
   ]
  },
  {
   "cell_type": "code",
   "execution_count": 23,
   "id": "cef53db5",
   "metadata": {},
   "outputs": [
    {
     "name": "stdout",
     "output_type": "stream",
     "text": [
      "[[0. 0. 0. 0.]\n",
      " [0. 0. 0. 0.]\n",
      " [0. 0. 0. 0.]]\n"
     ]
    }
   ],
   "source": [
    "# video7 ##############################################\n",
    "#using built in functions to create ndarray \n",
    "# create zeros array with shape i define it \n",
    "y1 = np.zeros((3,4))\n",
    "print(y1)\n"
   ]
  },
  {
   "cell_type": "code",
   "execution_count": 24,
   "id": "96ae3376",
   "metadata": {},
   "outputs": [
    {
     "name": "stdout",
     "output_type": "stream",
     "text": [
      "dtype is :  float64\n"
     ]
    }
   ],
   "source": [
    "print('dtype is : ',y1.dtype)"
   ]
  },
  {
   "cell_type": "code",
   "execution_count": 25,
   "id": "b1b3dddd",
   "metadata": {},
   "outputs": [
    {
     "name": "stdout",
     "output_type": "stream",
     "text": [
      "[[0 0 0 0]\n",
      " [0 0 0 0]\n",
      " [0 0 0 0]] int32\n"
     ]
    }
   ],
   "source": [
    "#changing type\n",
    "y1 = np.zeros((3,4),dtype=int)\n",
    "print(y1,y1.dtype)\n"
   ]
  },
  {
   "cell_type": "code",
   "execution_count": 27,
   "id": "3c25dd01",
   "metadata": {},
   "outputs": [
    {
     "name": "stdout",
     "output_type": "stream",
     "text": [
      "[[1. 1. 1. 1. 1.]\n",
      " [1. 1. 1. 1. 1.]\n",
      " [1. 1. 1. 1. 1.]\n",
      " [1. 1. 1. 1. 1.]]\n"
     ]
    }
   ],
   "source": [
    "#create ones arrat\\y\n",
    "y2 = np.ones((4,5))\n",
    "print(y2)"
   ]
  },
  {
   "cell_type": "code",
   "execution_count": 28,
   "id": "efdb23a3",
   "metadata": {},
   "outputs": [
    {
     "name": "stdout",
     "output_type": "stream",
     "text": [
      "[[8 8 8 8 8 8]\n",
      " [8 8 8 8 8 8]\n",
      " [8 8 8 8 8 8]\n",
      " [8 8 8 8 8 8]]\n"
     ]
    }
   ],
   "source": [
    "#create full array with fill number i define it \n",
    "y3 = np.full((4,6),8)\n",
    "print(y3)"
   ]
  },
  {
   "cell_type": "code",
   "execution_count": 29,
   "id": "e7250b5f",
   "metadata": {},
   "outputs": [
    {
     "name": "stdout",
     "output_type": "stream",
     "text": [
      "[[1. 0. 0. 0. 0.]\n",
      " [0. 1. 0. 0. 0.]\n",
      " [0. 0. 1. 0. 0.]\n",
      " [0. 0. 0. 1. 0.]\n",
      " [0. 0. 0. 0. 1.]]\n"
     ]
    }
   ],
   "source": [
    "# create identity matrix == square matrix\n",
    "y4 = np.eye(5)\n",
    "print(y4)"
   ]
  },
  {
   "cell_type": "code",
   "execution_count": 30,
   "id": "d98ae9ef",
   "metadata": {},
   "outputs": [
    {
     "name": "stdout",
     "output_type": "stream",
     "text": [
      "[[ 10   0   0   0   0]\n",
      " [  0  50   0   0   0]\n",
      " [  0   0  40   0   0]\n",
      " [  0   0   0 160   0]\n",
      " [  0   0   0   0  70]]\n"
     ]
    }
   ],
   "source": [
    "# create diagonal matrix\n",
    "y5 = np.diag([10,50,40,160,70])\n",
    "print(y5)"
   ]
  },
  {
   "cell_type": "code",
   "execution_count": 31,
   "id": "55844442",
   "metadata": {},
   "outputs": [
    {
     "name": "stdout",
     "output_type": "stream",
     "text": [
      "[0 1 2 3 4 5 6 7 8 9]\n"
     ]
    }
   ],
   "source": [
    "# create matrix with numbers in range with arange(start,stop,step) function\n",
    "#with one argument\n",
    "y6 = np.arange(10)\n",
    "print(y6)"
   ]
  },
  {
   "cell_type": "code",
   "execution_count": 32,
   "id": "5609195f",
   "metadata": {},
   "outputs": [
    {
     "name": "stdout",
     "output_type": "stream",
     "text": [
      "[4 5 6 7 8 9]\n"
     ]
    }
   ],
   "source": [
    "y6 = np.arange(4,10)\n",
    "print(y6)"
   ]
  },
  {
   "cell_type": "code",
   "execution_count": 33,
   "id": "f91687b2",
   "metadata": {},
   "outputs": [
    {
     "name": "stdout",
     "output_type": "stream",
     "text": [
      "[4 6 8]\n"
     ]
    }
   ],
   "source": [
    "y6 = np.arange(4,10,2)\n",
    "print(y6)"
   ]
  },
  {
   "cell_type": "code",
   "execution_count": 40,
   "id": "8fb0f91f",
   "metadata": {},
   "outputs": [
    {
     "name": "stdout",
     "output_type": "stream",
     "text": [
      "[ 0.          1.31578947  2.63157895  3.94736842  5.26315789  6.57894737\n",
      "  7.89473684  9.21052632 10.52631579 11.84210526 13.15789474 14.47368421\n",
      " 15.78947368 17.10526316 18.42105263 19.73684211 21.05263158 22.36842105\n",
      " 23.68421053 25.        ]\n"
     ]
    }
   ],
   "source": [
    "#create arange of distributed number linspace(start,stop,n)\n",
    "y7 = np.linspace(0,25,20)\n",
    "print(y7)"
   ]
  },
  {
   "cell_type": "code",
   "execution_count": 43,
   "id": "4dd8da0e",
   "metadata": {},
   "outputs": [
    {
     "name": "stdout",
     "output_type": "stream",
     "text": [
      "[[ 0.          1.31578947]\n",
      " [ 2.63157895  3.94736842]\n",
      " [ 5.26315789  6.57894737]\n",
      " [ 7.89473684  9.21052632]\n",
      " [10.52631579 11.84210526]\n",
      " [13.15789474 14.47368421]\n",
      " [15.78947368 17.10526316]\n",
      " [18.42105263 19.73684211]\n",
      " [21.05263158 22.36842105]\n",
      " [23.68421053 25.        ]]\n"
     ]
    }
   ],
   "source": [
    "#we can reshape any array for any n*m matrix\n",
    "y7 = np.reshape(y7,(4,5)).reshape(10,2)\n",
    "print(y7)"
   ]
  },
  {
   "cell_type": "code",
   "execution_count": 42,
   "id": "869aa019",
   "metadata": {},
   "outputs": [
    {
     "name": "stdout",
     "output_type": "stream",
     "text": [
      "[[ 0.          1.31578947]\n",
      " [ 2.63157895  3.94736842]\n",
      " [ 5.26315789  6.57894737]\n",
      " [ 7.89473684  9.21052632]\n",
      " [10.52631579 11.84210526]\n",
      " [13.15789474 14.47368421]\n",
      " [15.78947368 17.10526316]\n",
      " [18.42105263 19.73684211]\n",
      " [21.05263158 22.36842105]\n",
      " [23.68421053 25.        ]]\n"
     ]
    }
   ],
   "source": [
    "# y7 = np.reshape(y7,(10,2))\n",
    "# print(y7)"
   ]
  },
  {
   "cell_type": "code",
   "execution_count": 44,
   "id": "ff359f5f",
   "metadata": {},
   "outputs": [
    {
     "name": "stdout",
     "output_type": "stream",
     "text": [
      "[[0.54564453 0.90664512 0.4664343 ]\n",
      " [0.02800076 0.31697562 0.15292721]\n",
      " [0.76051369 0.62128127 0.57521548]]\n"
     ]
    }
   ],
   "source": [
    "# random function to create random array its useful for machine learning to intialize neural networks\n",
    "y8 = np.random.random((3,3))\n",
    "print(y8)"
   ]
  },
  {
   "cell_type": "code",
   "execution_count": 50,
   "id": "e474ab21",
   "metadata": {},
   "outputs": [
    {
     "name": "stdout",
     "output_type": "stream",
     "text": [
      "[[11 10  4  9 13]\n",
      " [ 6 11 10 10  9]\n",
      " [12 10 10 11 12]\n",
      " [ 9 11  5 13  5]\n",
      " [ 4 14 14  5  7]]\n"
     ]
    }
   ],
   "source": [
    "# create random int np.random.random(lower,upper,(3,3)==shape)\n",
    "y9 = np.random.randint(4,15,(5,5))\n",
    "print(y9)"
   ]
  },
  {
   "cell_type": "code",
   "execution_count": 54,
   "id": "02c61724",
   "metadata": {},
   "outputs": [
    {
     "name": "stdout",
     "output_type": "stream",
     "text": [
      "[[-0.01105177 -0.0668551  -0.08656313 ...  0.03125777 -0.02838849\n",
      "  -0.06771909]\n",
      " [-0.02792225 -0.05854278  0.04430142 ...  0.09108573  0.06994427\n",
      "   0.08119593]\n",
      " [ 0.01242272 -0.0919275  -0.06512197 ...  0.27871942 -0.11931659\n",
      "  -0.13128963]\n",
      " ...\n",
      " [-0.0598965  -0.11468067  0.13460958 ...  0.09915817  0.08468082\n",
      "  -0.25959056]\n",
      " [ 0.02237189  0.10512158 -0.0893913  ... -0.03488999  0.1217876\n",
      "  -0.01262713]\n",
      " [ 0.16037298 -0.18856382  0.04781941 ... -0.09928428  0.02995565\n",
      "  -0.03609242]]\n"
     ]
    }
   ],
   "source": [
    "y10 = np.random.normal(0,0.1,size=(1000,1000))\n",
    "print(y10)"
   ]
  },
  {
   "cell_type": "code",
   "execution_count": 56,
   "id": "fbc13501",
   "metadata": {},
   "outputs": [
    {
     "name": "stdout",
     "output_type": "stream",
     "text": [
      "mean 0.00010750943195313815\n",
      "std 0.09994791749744063\n",
      "max 0.4735024700441054\n",
      "#positive 500867\n",
      "#negative 499133\n"
     ]
    }
   ],
   "source": [
    "print('mean',y10.mean())\n",
    "print('std',y10.std())\n",
    "print('max',y10.max())\n",
    "print('#positive',(y10>0).sum())\n",
    "print('#negative',(y10<0).sum())\n"
   ]
  },
  {
   "cell_type": "code",
   "execution_count": 57,
   "id": "ff53b373",
   "metadata": {},
   "outputs": [
    {
     "name": "stdout",
     "output_type": "stream",
     "text": [
      "1st element  1\n",
      "2st element  2\n",
      "3st element  5\n",
      "5st element  9\n"
     ]
    }
   ],
   "source": [
    "# video9 ##############################################\n",
    "#Accessing, Deleting, and Inserting Elements Into ndarrays\n",
    "z1 = np.array([1,2,5,8,9,3])\n",
    "print('1st element ' , z1[0])\n",
    "print('2st element ' , z1[1])\n",
    "print('3st element ' , z1[2])\n",
    "print('5st element ' , z1[4])"
   ]
  },
  {
   "cell_type": "code",
   "execution_count": 59,
   "id": "5b177d26",
   "metadata": {},
   "outputs": [
    {
     "name": "stdout",
     "output_type": "stream",
     "text": [
      "last element  3\n",
      "befor last element  9\n"
     ]
    }
   ],
   "source": [
    "#negative indices\n",
    "print('last element ' , z1[-1])\n",
    "print('befor last element ' , z1[-2])"
   ]
  },
  {
   "cell_type": "code",
   "execution_count": 60,
   "id": "2079b2a9",
   "metadata": {},
   "outputs": [
    {
     "name": "stdout",
     "output_type": "stream",
     "text": [
      "[  1 200   5   8   9   3]\n"
     ]
    }
   ],
   "source": [
    "#modify elements in array \n",
    "z1[1]=200\n",
    "print(z1)"
   ]
  },
  {
   "cell_type": "code",
   "execution_count": 61,
   "id": "abc44f45",
   "metadata": {},
   "outputs": [
    {
     "name": "stdout",
     "output_type": "stream",
     "text": [
      "[[1 2 3]\n",
      " [4 5 6]\n",
      " [7 8 9]]\n"
     ]
    }
   ],
   "source": [
    "#another example\n",
    "z2 = np.arange(1,10).reshape(3,3)\n",
    "print(z2)"
   ]
  },
  {
   "cell_type": "code",
   "execution_count": 62,
   "id": "aa54e02f",
   "metadata": {},
   "outputs": [
    {
     "name": "stdout",
     "output_type": "stream",
     "text": [
      "element at (0,0) :  1\n",
      "element at (0,2) :  3\n",
      "element at (2,2) :  9\n"
     ]
    }
   ],
   "source": [
    "print('element at (0,0) : ',z2[0,0])\n",
    "print('element at (0,2) : ',z2[0,2])\n",
    "print('element at (2,2) : ',z2[2,2])"
   ]
  },
  {
   "cell_type": "code",
   "execution_count": 63,
   "id": "76262201",
   "metadata": {},
   "outputs": [
    {
     "name": "stdout",
     "output_type": "stream",
     "text": [
      "[[  1   2 700]\n",
      " [  4   5   6]\n",
      " [  7   8   9]]\n"
     ]
    }
   ],
   "source": [
    "#modify element\n",
    "z2[0,2] = 700\n",
    "print(z2)"
   ]
  },
  {
   "cell_type": "code",
   "execution_count": 65,
   "id": "791be67b",
   "metadata": {},
   "outputs": [
    {
     "name": "stdout",
     "output_type": "stream",
     "text": [
      "[2 3 4]\n"
     ]
    }
   ],
   "source": [
    "#add and delet elements in array==matrix in numpy\n",
    "#delete using delete function\n",
    "#array with rank 1 \n",
    "z3 = np.array([1,2,3,4,5])\n",
    "z3 = np.delete(z3,[0,4])\n",
    "print(z3)"
   ]
  },
  {
   "cell_type": "code",
   "execution_count": 73,
   "id": "c874c707",
   "metadata": {},
   "outputs": [
    {
     "name": "stdout",
     "output_type": "stream",
     "text": [
      "[[1 2 3]\n",
      " [4 5 6]\n",
      " [7 8 9]]\n",
      "===============\n",
      "[[4 5 6]\n",
      " [7 8 9]]\n",
      "===============\n",
      "[[2]\n",
      " [5]\n",
      " [8]]\n"
     ]
    }
   ],
   "source": [
    "#delete from array with rank 2 \n",
    "z4 = np.arange(1,10).reshape(3,3)\n",
    "print(z4)\n",
    "print(\"===============\")\n",
    "z5 = np.delete(z4,0,axis=0 )#raw\n",
    "print(z5)\n",
    "print(\"===============\")\n",
    "z6 = np.delete(z4,[0,2],axis=1)#colomn     [0,2] mean that delete colomn with index 0 and delete colomn with index 2 \n",
    "print(z6)"
   ]
  },
  {
   "cell_type": "code",
   "execution_count": 76,
   "id": "19bd0dfa",
   "metadata": {},
   "outputs": [
    {
     "name": "stdout",
     "output_type": "stream",
     "text": [
      "[1 2 3 4 5]\n",
      "[1 2 3 4 5 8]\n",
      "[1 2 3 4 5 8 7 9]\n"
     ]
    }
   ],
   "source": [
    "#add element to array using append(array,element want to add) function in array with rank 1\n",
    "z7 = np.array([1,2,3,4,5])\n",
    "print(z7)\n",
    "z7 = np.append(z7,8)\n",
    "print(z7)\n",
    "z7 = np.append(z7,[7,9])\n",
    "print(z7)"
   ]
  },
  {
   "cell_type": "code",
   "execution_count": 85,
   "id": "c1dcd2e5",
   "metadata": {},
   "outputs": [
    {
     "name": "stdout",
     "output_type": "stream",
     "text": [
      "[[1 2 3]\n",
      " [4 5 6]\n",
      " [7 8 9]]\n",
      "========\n",
      "[[ 1  2  3]\n",
      " [ 4  5  6]\n",
      " [ 7  8  9]\n",
      " [10 20 30]]\n",
      "[[ 1  2  3 10]\n",
      " [ 4  5  6 20]\n",
      " [ 7  8  9 30]\n",
      " [10 20 30 40]]\n"
     ]
    }
   ],
   "source": [
    "#add element to array using append(array,element want to add) function in array with rank 2\n",
    "\n",
    "z8 = np.arange(1,10).reshape(3,3)\n",
    "print(z8)\n",
    "print(\"========\")\n",
    "#add row \n",
    "z8 = np.append(z8,[[10,20,30]],axis=0)\n",
    "print(z8)\n",
    "#add colomn\n",
    "z8 = np.append(z8,[[10],[20],[30],[40]],axis=1)\n",
    "print(z8)"
   ]
  },
  {
   "cell_type": "code",
   "execution_count": 5,
   "id": "79e897cb",
   "metadata": {},
   "outputs": [
    {
     "name": "stdout",
     "output_type": "stream",
     "text": [
      "[10 20 30 40 50 60]\n",
      "[  10   20 1000 7000   30   40   50   60]\n"
     ]
    }
   ],
   "source": [
    "#insert numbers in array with rank 1 \n",
    "z9 = np.array([10,20,30,40,50,60])\n",
    "print(z9)\n",
    "z9 = np.insert(z9,2,[1000,7000])\n",
    "print(z9)"
   ]
  },
  {
   "cell_type": "code",
   "execution_count": 7,
   "id": "f8864a52",
   "metadata": {},
   "outputs": [
    {
     "name": "stdout",
     "output_type": "stream",
     "text": [
      "[[1 2 3 4]\n",
      " [5 6 7 8]]\n",
      "[[ 1  2  3  4]\n",
      " [ 9 10 11 12]\n",
      " [ 5  6  7  8]]\n",
      "[[   1 1000    2    3    4]\n",
      " [   9 2000   10   11   12]\n",
      " [   5 3000    6    7    8]]\n"
     ]
    }
   ],
   "source": [
    "# insert numbers in array with rank 2  >>> np.insert(array,index,elements want to insert)\n",
    "z10 = np.array([[1,2,3,4],[5,6,7,8]])\n",
    "print(z10)\n",
    "#insert row \n",
    "z10 = np.insert(z10,1,[9,10,11,12],axis=0)#row\n",
    "print(z10)\n",
    "#insert colomn\n",
    "z10 = np.insert(z10,1,[1000,2000,3000],axis=1)#colomn\n",
    "print(z10)"
   ]
  },
  {
   "cell_type": "code",
   "execution_count": 14,
   "id": "fe53c8f6",
   "metadata": {},
   "outputs": [
    {
     "name": "stdout",
     "output_type": "stream",
     "text": [
      "[[ 2  5]\n",
      " [ 4  6]\n",
      " [10 20]]\n",
      "==============================\n",
      "[[ 4  6  2]\n",
      " [10 20  5]]\n"
     ]
    }
   ],
   "source": [
    "# stack == compine arrays \n",
    "#vstack and hstack \n",
    "z11= np.array([2,5])\n",
    "z12= np.array([[4,6],[10,20]])\n",
    "\n",
    "z13 = np.vstack((z11,z12))\n",
    "print(z13)\n",
    "print(\"==============================\")\n",
    "z14 = np.hstack((z12,z11.reshape(2,1)))\n",
    "print(z14)"
   ]
  },
  {
   "cell_type": "code",
   "execution_count": 15,
   "id": "2af3c1e9",
   "metadata": {},
   "outputs": [
    {
     "name": "stdout",
     "output_type": "stream",
     "text": [
      "[[ 1  2  3  4  5]\n",
      " [ 6  7  8  9 10]\n",
      " [11 12 13 14 15]\n",
      " [16 17 18 19 20]]\n"
     ]
    }
   ],
   "source": [
    "#video 10 ##########################################\n",
    "#Slicing ndarrays\n",
    "# three way for slicing\n",
    "#1- >> ndarray[start index:end index]\n",
    "#2- >> ndarray[start:]\n",
    "#3- >> ndarray[:end]\n",
    "# example with rank 2 array\n",
    "# index start from 0 \n",
    "a1 = np.arange(1,21).reshape(4,5)\n",
    "print(a1)\n"
   ]
  },
  {
   "cell_type": "code",
   "execution_count": 17,
   "id": "e7e99345",
   "metadata": {},
   "outputs": [
    {
     "name": "stdout",
     "output_type": "stream",
     "text": [
      "[[ 8  9 10]\n",
      " [13 14 15]\n",
      " [18 19 20]]\n"
     ]
    }
   ],
   "source": [
    "a2 = a1[1:4,2:5] ## [1:4 rows,2:5 colomns]\n",
    "print(a2)"
   ]
  },
  {
   "cell_type": "code",
   "execution_count": 18,
   "id": "f465778b",
   "metadata": {},
   "outputs": [
    {
     "name": "stdout",
     "output_type": "stream",
     "text": [
      "[[ 8  9 10]\n",
      " [13 14 15]\n",
      " [18 19 20]]\n"
     ]
    }
   ],
   "source": [
    "a2 = a1[1:,2:] ## [1:4 rows,2:5 colomns]\n",
    "print(a2)"
   ]
  },
  {
   "cell_type": "code",
   "execution_count": 19,
   "id": "43e8aeb8",
   "metadata": {},
   "outputs": [
    {
     "name": "stdout",
     "output_type": "stream",
     "text": [
      "[[ 3  4  5]\n",
      " [ 8  9 10]\n",
      " [13 14 15]]\n"
     ]
    }
   ],
   "source": [
    "a2 = a1[:3,2:] ## [1:4 rows,2:5 colomns]\n",
    "print(a2)"
   ]
  },
  {
   "cell_type": "code",
   "execution_count": 21,
   "id": "02eaf082",
   "metadata": {},
   "outputs": [
    {
     "name": "stdout",
     "output_type": "stream",
     "text": [
      "[ 3  8 13 18]\n"
     ]
    }
   ],
   "source": [
    "a2 = a1[:,2] ## [: all rows,in colomn 2]\n",
    "print(a2)"
   ]
  },
  {
   "cell_type": "code",
   "execution_count": 23,
   "id": "af0927cd",
   "metadata": {},
   "outputs": [
    {
     "name": "stdout",
     "output_type": "stream",
     "text": [
      "[[ 3]\n",
      " [ 8]\n",
      " [13]\n",
      " [18]]\n"
     ]
    }
   ],
   "source": [
    "a2 = a1[:,2:3] ## [1:4 rows,2:5 colomns]\n",
    "print(a2)"
   ]
  },
  {
   "cell_type": "code",
   "execution_count": 30,
   "id": "7816e635",
   "metadata": {},
   "outputs": [
    {
     "name": "stdout",
     "output_type": "stream",
     "text": [
      "[[ 1  2  3  4  5]\n",
      " [ 6  7  8  9 10]\n",
      " [11 12 13 14 15]\n",
      " [16 17 18 19 20]]\n"
     ]
    }
   ],
   "source": [
    "# if a4 depend on a3 and i change a4 a3 will changed \n",
    "a3 = np.arange(1,21).reshape(4,5)\n",
    "print(a3)"
   ]
  },
  {
   "cell_type": "code",
   "execution_count": 31,
   "id": "0a3d5026",
   "metadata": {},
   "outputs": [
    {
     "name": "stdout",
     "output_type": "stream",
     "text": [
      "[[ 8  9 10]\n",
      " [13 14 15]\n",
      " [18 19 20]]\n"
     ]
    }
   ],
   "source": [
    "a4 = a3[1:,2:]\n",
    "print(a4)"
   ]
  },
  {
   "cell_type": "code",
   "execution_count": 32,
   "id": "b9731fd1",
   "metadata": {},
   "outputs": [
    {
     "name": "stdout",
     "output_type": "stream",
     "text": [
      "[[  8   9  10]\n",
      " [ 13  14  15]\n",
      " [ 18  19 555]]\n"
     ]
    }
   ],
   "source": [
    "a4[2,2] = 555\n",
    "print(a4)"
   ]
  },
  {
   "cell_type": "code",
   "execution_count": 33,
   "id": "ad0a18ce",
   "metadata": {},
   "outputs": [
    {
     "name": "stdout",
     "output_type": "stream",
     "text": [
      "[[  1   2   3   4   5]\n",
      " [  6   7   8   9  10]\n",
      " [ 11  12  13  14  15]\n",
      " [ 16  17  18  19 555]]\n"
     ]
    }
   ],
   "source": [
    "# a3 changed because a4 changed \n",
    "print(a3)"
   ]
  },
  {
   "cell_type": "code",
   "execution_count": 34,
   "id": "a95a0f7c",
   "metadata": {},
   "outputs": [
    {
     "name": "stdout",
     "output_type": "stream",
     "text": [
      "[[ 1  2  3  4  5]\n",
      " [ 6  7  8  9 10]\n",
      " [11 12 13 14 15]\n",
      " [16 17 18 19 20]]\n"
     ]
    }
   ],
   "source": [
    "#if i want a3 be constant not changed we use copy function in numpy \n",
    "# we tacke the ame example \n",
    "a5 = np.arange(1,21).reshape(4,5)\n",
    "print(a5)"
   ]
  },
  {
   "cell_type": "code",
   "execution_count": 35,
   "id": "f6c0b712",
   "metadata": {},
   "outputs": [
    {
     "name": "stdout",
     "output_type": "stream",
     "text": [
      "[[ 8  9 10]\n",
      " [13 14 15]\n",
      " [18 19 20]]\n"
     ]
    }
   ],
   "source": [
    "a6 = np.copy(a5[1:,2:]) # a5[1:,2:].copy()\n",
    "print(a6)"
   ]
  },
  {
   "cell_type": "code",
   "execution_count": 36,
   "id": "8a3fda7d",
   "metadata": {},
   "outputs": [
    {
     "name": "stdout",
     "output_type": "stream",
     "text": [
      "[[  8   9  10]\n",
      " [ 13  14  15]\n",
      " [ 18  19 555]]\n"
     ]
    }
   ],
   "source": [
    "a6[2,2] = 555\n",
    "print(a6)"
   ]
  },
  {
   "cell_type": "code",
   "execution_count": 37,
   "id": "ba552451",
   "metadata": {},
   "outputs": [
    {
     "name": "stdout",
     "output_type": "stream",
     "text": [
      "[[ 1  2  3  4  5]\n",
      " [ 6  7  8  9 10]\n",
      " [11 12 13 14 15]\n",
      " [16 17 18 19 20]]\n"
     ]
    }
   ],
   "source": [
    "#not changed\n",
    "print(a5)"
   ]
  },
  {
   "cell_type": "code",
   "execution_count": 39,
   "id": "dc28776a",
   "metadata": {},
   "outputs": [
    {
     "name": "stdout",
     "output_type": "stream",
     "text": [
      "[ 1  7 13 19]\n"
     ]
    }
   ],
   "source": [
    "# extract diagonal fronm array k = 0 by default \n",
    "a7 = np.diag(a5)\n",
    "print(a7)"
   ]
  },
  {
   "cell_type": "code",
   "execution_count": 40,
   "id": "ad09a090",
   "metadata": {},
   "outputs": [
    {
     "name": "stdout",
     "output_type": "stream",
     "text": [
      "[ 2  8 14 20]\n"
     ]
    }
   ],
   "source": [
    "a8 = np.diag(a5,k=1) # start from second colomn\n",
    "print(a8)"
   ]
  },
  {
   "cell_type": "code",
   "execution_count": 41,
   "id": "185fedde",
   "metadata": {},
   "outputs": [
    {
     "name": "stdout",
     "output_type": "stream",
     "text": [
      "[[1 2 3 4]\n",
      " [1 2 5 7]\n",
      " [9 8 7 5]]\n",
      "[1 2 3 4 5 7 8 9]\n"
     ]
    }
   ],
   "source": [
    "# unique function == not repeated \n",
    "a9 = np.array([[1,2,3,4],[1,2,5,7],[9,8,7,5]])\n",
    "print(a9)\n",
    "a10=np.unique(a9)\n",
    "print(a10)"
   ]
  },
  {
   "cell_type": "code",
   "execution_count": 42,
   "id": "0665372a",
   "metadata": {},
   "outputs": [
    {
     "name": "stdout",
     "output_type": "stream",
     "text": [
      "[[ 0  1  2  3  4]\n",
      " [ 5  6  7  8  9]\n",
      " [10 11 12 13 14]\n",
      " [15 16 17 18 19]\n",
      " [20 21 22 23 24]]\n"
     ]
    }
   ],
   "source": [
    "# video 11 \n",
    "#Boolean Indexing, Set Operations, and Sorting\n",
    "\n",
    "d1 = np.arange(25).reshape(5,5)\n",
    "print(d1)"
   ]
  },
  {
   "cell_type": "code",
   "execution_count": 45,
   "id": "53662dde",
   "metadata": {},
   "outputs": [
    {
     "name": "stdout",
     "output_type": "stream",
     "text": [
      "[11 12 13 14 15 16 17 18 19 20 21 22 23 24]\n"
     ]
    }
   ],
   "source": [
    "#use boolean indexing to select element greater than 10\n",
    "print(d1[d1>10])"
   ]
  },
  {
   "cell_type": "code",
   "execution_count": 46,
   "id": "35922944",
   "metadata": {},
   "outputs": [
    {
     "name": "stdout",
     "output_type": "stream",
     "text": [
      "[0 1 2 3 4 5 6 7]\n"
     ]
    }
   ],
   "source": [
    "print(d1[d1<=7])"
   ]
  },
  {
   "cell_type": "code",
   "execution_count": 50,
   "id": "8671cc2b",
   "metadata": {},
   "outputs": [
    {
     "name": "stdout",
     "output_type": "stream",
     "text": [
      "[11 12 13 14 15 16]\n"
     ]
    }
   ],
   "source": [
    "print(d1[(d1>10) & (d1<17)])"
   ]
  },
  {
   "cell_type": "code",
   "execution_count": 51,
   "id": "a5676776",
   "metadata": {},
   "outputs": [
    {
     "name": "stdout",
     "output_type": "stream",
     "text": [
      "[[ 0  1  2  3  4]\n",
      " [ 5  6  7  8  9]\n",
      " [10 -1 -1 -1 -1]\n",
      " [-1 -1 17 18 19]\n",
      " [20 21 22 23 24]]\n"
     ]
    }
   ],
   "source": [
    "d1[(d1>10) & (d1<17)] = -1 \n",
    "print(d1)"
   ]
  },
  {
   "cell_type": "code",
   "execution_count": 58,
   "id": "5ea80553",
   "metadata": {
    "scrolled": true
   },
   "outputs": [
    {
     "name": "stdout",
     "output_type": "stream",
     "text": [
      "[2 4]\n",
      "[1 3 5]\n",
      "[1 2 3 4 5 6 7 8]\n"
     ]
    }
   ],
   "source": [
    "# some operation useful for comparing arrays \n",
    "# intersection,difference,union\n",
    "d2 = np.array([1,2,3,4,5])\n",
    "d3 = np.array([6,7,2,8,4])\n",
    "print(np.intersect1d(d2,d3))\n",
    "print(np.setdiff1d(d2,d3))\n",
    "print(np.union1d(d2,d3))"
   ]
  },
  {
   "cell_type": "code",
   "execution_count": 60,
   "id": "5ff3b756",
   "metadata": {},
   "outputs": [
    {
     "name": "stdout",
     "output_type": "stream",
     "text": [
      "[4 8 6 7 4 3 1 6 1 1]\n"
     ]
    }
   ],
   "source": [
    "# sort == order\n",
    "d4 = np.random.randint(1,11,size=(10,))\n",
    "print(d4)"
   ]
  },
  {
   "cell_type": "code",
   "execution_count": 61,
   "id": "7b8fd2a5",
   "metadata": {},
   "outputs": [
    {
     "name": "stdout",
     "output_type": "stream",
     "text": [
      "[1 1 1 3 4 4 6 6 7 8]\n",
      "[4 8 6 7 4 3 1 6 1 1]\n"
     ]
    }
   ],
   "source": [
    "print(np.sort(d4))# have the repeated numbers\n",
    "print(d4)#still not sorted"
   ]
  },
  {
   "cell_type": "code",
   "execution_count": 62,
   "id": "b2446341",
   "metadata": {},
   "outputs": [
    {
     "name": "stdout",
     "output_type": "stream",
     "text": [
      "[1 3 4 6 7 8]\n"
     ]
    }
   ],
   "source": [
    "print(np.sort(np.unique(d4))) # sort the unique array"
   ]
  },
  {
   "cell_type": "code",
   "execution_count": 63,
   "id": "ad89a0d9",
   "metadata": {},
   "outputs": [
    {
     "name": "stdout",
     "output_type": "stream",
     "text": [
      "[[ 1  2  1  6  2]\n",
      " [ 6  7  3 10  1]\n",
      " [ 1  9  4  3  4]\n",
      " [ 1 10  7  7  1]\n",
      " [ 5  3  1  1  8]]\n"
     ]
    }
   ],
   "source": [
    "# sort 2 rank array\n",
    "d5 = np.random.randint(1,11,size=(5,5))\n",
    "print(d5)"
   ]
  },
  {
   "cell_type": "code",
   "execution_count": 64,
   "id": "17425982",
   "metadata": {},
   "outputs": [
    {
     "name": "stdout",
     "output_type": "stream",
     "text": [
      "[[ 1  2  1  1  1]\n",
      " [ 1  3  1  3  1]\n",
      " [ 1  7  3  6  2]\n",
      " [ 5  9  4  7  4]\n",
      " [ 6 10  7 10  8]]\n"
     ]
    }
   ],
   "source": [
    "#sort from row\n",
    "print(np.sort(d5,axis=0))"
   ]
  },
  {
   "cell_type": "code",
   "execution_count": 65,
   "id": "5db46eaf",
   "metadata": {},
   "outputs": [
    {
     "name": "stdout",
     "output_type": "stream",
     "text": [
      "[[ 1  1  2  2  6]\n",
      " [ 1  3  6  7 10]\n",
      " [ 1  3  4  4  9]\n",
      " [ 1  1  7  7 10]\n",
      " [ 1  1  3  5  8]]\n"
     ]
    }
   ],
   "source": [
    "#sort from row\n",
    "print(np.sort(d5,axis=1))"
   ]
  },
  {
   "cell_type": "code",
   "execution_count": 70,
   "id": "d7a26b55",
   "metadata": {},
   "outputs": [
    {
     "name": "stdout",
     "output_type": "stream",
     "text": [
      "[[12  3 24 20  6]\n",
      " [25 24 13  6 19]\n",
      " [15 24 14 15 10]\n",
      " [ 7  1  4 15 12]\n",
      " [ 5 25 18 15  9]]\n",
      "=======\n",
      "[ 3 25 13 19 15 15  7  1 15  5 25 15  9]\n"
     ]
    }
   ],
   "source": [
    "# video 12 quize \n",
    "#Manipulating ndarrays\n",
    "# Create a 5 x 5 ndarray with consecutive integers from 1 to 25 (inclusive).\n",
    "X = np.random.randint(1,26,size=(5,5))\n",
    "print(X)\n",
    "print(\"=======\")\n",
    "# Use Boolean indexing to pick out only the odd numbers in the array\n",
    "Y = X[X%2 != 0]\n",
    "print(Y)"
   ]
  },
  {
   "cell_type": "code",
   "execution_count": 71,
   "id": "c014d82f",
   "metadata": {},
   "outputs": [
    {
     "name": "stdout",
     "output_type": "stream",
     "text": [
      "[1 2 3 4 5]\n",
      "[ 6  7  8  9 10]\n"
     ]
    }
   ],
   "source": [
    "#video 13 \n",
    "#Arithmetic Operations and Broadcasting\n",
    "f1 = np.array([1,2,3,4,5])\n",
    "f2 = np.array([6,7,8,9,10])\n",
    "print(f1)\n",
    "print(f2)"
   ]
  },
  {
   "cell_type": "code",
   "execution_count": 72,
   "id": "d7f60e45",
   "metadata": {},
   "outputs": [
    {
     "name": "stdout",
     "output_type": "stream",
     "text": [
      "[ 7  9 11 13 15]\n",
      "[ 7  9 11 13 15]\n"
     ]
    }
   ],
   "source": [
    "#make operation in arrays using sympols or functions\n",
    "print(f1 + f2)\n",
    "print(np.add(f1,f2))"
   ]
  },
  {
   "cell_type": "code",
   "execution_count": 73,
   "id": "d6d64a69",
   "metadata": {},
   "outputs": [
    {
     "name": "stdout",
     "output_type": "stream",
     "text": [
      "[ 6 14 24 36 50]\n",
      "[ 6 14 24 36 50]\n"
     ]
    }
   ],
   "source": [
    "print(f1 * f2)\n",
    "print(np.multiply(f1,f2))"
   ]
  },
  {
   "cell_type": "code",
   "execution_count": 74,
   "id": "970febed",
   "metadata": {},
   "outputs": [
    {
     "name": "stdout",
     "output_type": "stream",
     "text": [
      "[-5 -5 -5 -5 -5]\n",
      "[-5 -5 -5 -5 -5]\n"
     ]
    }
   ],
   "source": [
    "print(f1 - f2)\n",
    "print(np.subtract(f1,f2))"
   ]
  },
  {
   "cell_type": "code",
   "execution_count": 78,
   "id": "64d8f3c3",
   "metadata": {},
   "outputs": [
    {
     "name": "stdout",
     "output_type": "stream",
     "text": [
      "[0.16666667 0.28571429 0.375      0.44444444 0.5       ]\n",
      "[0.16666667 0.28571429 0.375      0.44444444 0.5       ]\n"
     ]
    }
   ],
   "source": [
    "print(f1 / f2)\n",
    "print(np.divide(f1,f2))"
   ]
  },
  {
   "cell_type": "code",
   "execution_count": 83,
   "id": "62baf763",
   "metadata": {},
   "outputs": [
    {
     "name": "stdout",
     "output_type": "stream",
     "text": [
      "[[1 2]\n",
      " [3 4]]\n",
      "[[5 6]\n",
      " [7 8]]\n"
     ]
    }
   ],
   "source": [
    "f3 = np.array([1,2,3,4]).reshape(2,2)\n",
    "print(f3)\n",
    "f4 = np.array([5,6,7,8]).reshape(2,2)\n",
    "print(f4)"
   ]
  },
  {
   "cell_type": "code",
   "execution_count": 84,
   "id": "71f61c2d",
   "metadata": {},
   "outputs": [
    {
     "name": "stdout",
     "output_type": "stream",
     "text": [
      "[[ 6  8]\n",
      " [10 12]]\n",
      "[[-4 -4]\n",
      " [-4 -4]]\n",
      "[[ 5 12]\n",
      " [21 32]]\n",
      "[[0.2        0.33333333]\n",
      " [0.42857143 0.5       ]]\n"
     ]
    }
   ],
   "source": [
    "print(f3+f4)\n",
    "print(f3-f4)\n",
    "print(f3*f4)\n",
    "print(f3/f4)"
   ]
  },
  {
   "cell_type": "code",
   "execution_count": 86,
   "id": "6ad98d4e",
   "metadata": {},
   "outputs": [
    {
     "name": "stdout",
     "output_type": "stream",
     "text": [
      "[[1.         1.41421356]\n",
      " [1.73205081 2.        ]]\n",
      "[[ 148.4131591   403.42879349]\n",
      " [1096.63315843 2980.95798704]]\n",
      "[[ 1  4]\n",
      " [ 9 16]]\n"
     ]
    }
   ],
   "source": [
    "#get square root and exponention and power 2\n",
    "\n",
    "print(np.sqrt(f3))\n",
    "print(np.exp(f4))\n",
    "print(np.power(f3,2))"
   ]
  },
  {
   "cell_type": "code",
   "execution_count": 91,
   "id": "f6a0767f",
   "metadata": {},
   "outputs": [
    {
     "name": "stdout",
     "output_type": "stream",
     "text": [
      "the averages  2.5 ---- 6.5\n",
      "the averages of rows   [1.5 3.5]\n",
      "the averages of colomns   [2. 3.]\n"
     ]
    }
   ],
   "source": [
    "#statistic function\n",
    "# mean\n",
    "print(\"the averages \",f3.mean(),\"----\",f4.mean())\n",
    "\n",
    "print(\"the averages of rows  \",f3.mean(axis=1))\n",
    "print(\"the averages of colomns  \",f3.mean(axis=0))\n"
   ]
  },
  {
   "cell_type": "code",
   "execution_count": 92,
   "id": "067e79c5",
   "metadata": {},
   "outputs": [
    {
     "name": "stdout",
     "output_type": "stream",
     "text": [
      "the sum  10 ---- 26\n",
      "the sum of rows   [3 7]\n",
      "the sum of colomns   [4 6]\n"
     ]
    }
   ],
   "source": [
    "#sum\n",
    "print(\"the sum \",f3.sum(),\"----\",f4.sum())\n",
    "\n",
    "print(\"the sum of rows  \",f3.sum(axis=1))\n",
    "print(\"the sum of colomns  \",f3.sum(axis=0))"
   ]
  },
  {
   "cell_type": "code",
   "execution_count": 93,
   "id": "0fc99499",
   "metadata": {},
   "outputs": [
    {
     "name": "stdout",
     "output_type": "stream",
     "text": [
      "the std  1.118033988749895 ---- 1.118033988749895\n",
      "the std of rows   [0.5 0.5]\n",
      "the std of colomns   [1. 1.]\n"
     ]
    }
   ],
   "source": [
    "# standard devision\n",
    "\n",
    "print(\"the std \",f3.std(),\"----\",f4.std())\n",
    "\n",
    "print(\"the std of rows  \",f3.std(axis=1))\n",
    "print(\"the std of colomns  \",f3.std(axis=0))"
   ]
  },
  {
   "cell_type": "code",
   "execution_count": 95,
   "id": "e4836eba",
   "metadata": {},
   "outputs": [
    {
     "name": "stdout",
     "output_type": "stream",
     "text": [
      "the median  2.5 ---- 6.5\n"
     ]
    }
   ],
   "source": [
    "#median\n",
    "print(\"the median \",np.median(f3),\"----\",np.median(f4))\n",
    "\n"
   ]
  },
  {
   "cell_type": "code",
   "execution_count": 96,
   "id": "663d7d3a",
   "metadata": {},
   "outputs": [
    {
     "name": "stdout",
     "output_type": "stream",
     "text": [
      "the min max  4 ---- 5\n"
     ]
    }
   ],
   "source": [
    "#min max \n",
    "print(\"the min max \",f3.max(),\"----\",f4.min())\n"
   ]
  },
  {
   "cell_type": "code",
   "execution_count": 97,
   "id": "7389c785",
   "metadata": {},
   "outputs": [
    {
     "name": "stdout",
     "output_type": "stream",
     "text": [
      "[[4 5]\n",
      " [6 7]]\n"
     ]
    }
   ],
   "source": [
    "print(3+f3)"
   ]
  },
  {
   "cell_type": "code",
   "execution_count": 98,
   "id": "ccc85fda",
   "metadata": {},
   "outputs": [
    {
     "name": "stdout",
     "output_type": "stream",
     "text": [
      "[[-2 -1]\n",
      " [ 0  1]]\n",
      "[[ 3  6]\n",
      " [ 9 12]]\n",
      "[[0.33333333 0.66666667]\n",
      " [1.         1.33333333]]\n"
     ]
    }
   ],
   "source": [
    "print(f3-3)\n",
    "print(3*f3)\n",
    "print(f3/3)"
   ]
  },
  {
   "cell_type": "code",
   "execution_count": 4,
   "id": "6a012db1",
   "metadata": {},
   "outputs": [
    {
     "name": "stdout",
     "output_type": "stream",
     "text": [
      "[1. 2. 3. 4.]\n"
     ]
    }
   ],
   "source": [
    "#video 14 last quize in numpy\n",
    "#boadcasting\n",
    "# Use Broadcasting to create a 4 x 4 ndarray that has its first\n",
    "# column full of 1s, its second column full of 2s, its third\n",
    "# column full of 3s, etc.. \n",
    "\n",
    "# Do not change the name of this array. \n",
    "# Please don't print anything from your code! The TEST RUN button below will print your array. \n",
    "X =np.zeros(4)+np.array([1,2,3,4])\n",
    "print(X)"
   ]
  }
 ],
 "metadata": {
  "kernelspec": {
   "display_name": "Python 3 (ipykernel)",
   "language": "python",
   "name": "python3"
  },
  "language_info": {
   "codemirror_mode": {
    "name": "ipython",
    "version": 3
   },
   "file_extension": ".py",
   "mimetype": "text/x-python",
   "name": "python",
   "nbconvert_exporter": "python",
   "pygments_lexer": "ipython3",
   "version": "3.9.7"
  }
 },
 "nbformat": 4,
 "nbformat_minor": 5
}
